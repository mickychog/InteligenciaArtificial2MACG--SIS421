{
 "cells": [
  {
   "cell_type": "markdown",
   "id": "295eca52-443b-4420-89a9-08dd0c957bbe",
   "metadata": {},
   "source": [
    "# BLOOM\n"
   ]
  },
  {
   "cell_type": "markdown",
   "id": "34d4e584-1930-4f9f-b850-f34f2ab87ef8",
   "metadata": {},
   "source": [
    "## Cargar y Configurar el Modelo"
   ]
  },
  {
   "cell_type": "code",
   "execution_count": 2,
   "id": "0b04ce26-6b6c-47a0-9a63-741b1adf4826",
   "metadata": {},
   "outputs": [
    {
     "ename": "ModuleNotFoundError",
     "evalue": "No module named 'transformers'",
     "output_type": "error",
     "traceback": [
      "\u001b[1;31m---------------------------------------------------------------------------\u001b[0m",
      "\u001b[1;31mModuleNotFoundError\u001b[0m                       Traceback (most recent call last)",
      "Cell \u001b[1;32mIn[2], line 1\u001b[0m\n\u001b[1;32m----> 1\u001b[0m \u001b[38;5;28;01mfrom\u001b[39;00m \u001b[38;5;21;01mtransformers\u001b[39;00m \u001b[38;5;28;01mimport\u001b[39;00m BloomTokenizerFast, BloomForSequenceClassification\n\u001b[0;32m      2\u001b[0m \u001b[38;5;28;01mfrom\u001b[39;00m \u001b[38;5;21;01mtransformers\u001b[39;00m \u001b[38;5;28;01mimport\u001b[39;00m Trainer, TrainingArguments\n\u001b[0;32m      3\u001b[0m \u001b[38;5;28;01mfrom\u001b[39;00m \u001b[38;5;21;01mdatasets\u001b[39;00m \u001b[38;5;28;01mimport\u001b[39;00m load_dataset\n",
      "\u001b[1;31mModuleNotFoundError\u001b[0m: No module named 'transformers'"
     ]
    }
   ],
   "source": [
    "from transformers import BloomTokenizerFast, BloomForSequenceClassification\n",
    "from transformers import Trainer, TrainingArguments\n",
    "from datasets import load_dataset\n",
    "\n",
    "# Cargar el tokenizador y el modelo\n",
    "tokenizer = AutoTokenizer.from_pretrained('microsoft/MiniLM-L12-H384-uncased')\n",
    "model = AutoModelForSequenceClassification.from_pretrained('microsoft/MiniLM-L12-H384-uncased', num_labels=2)\n"
   ]
  },
  {
   "cell_type": "markdown",
   "id": "3624f0ed-a292-4cd9-8322-7c73e9f29741",
   "metadata": {},
   "source": [
    "## Cargar y Preprocesar el Dataset"
   ]
  },
  {
   "cell_type": "code",
   "execution_count": null,
   "id": "728bd3e4-aad3-405c-9e85-8a9b4e03af9b",
   "metadata": {},
   "outputs": [],
   "source": [
    "# Cargar el dataset\n",
    "dataset = load_dataset('imdb')\n",
    "\n",
    "# Tokenizar los textos\n",
    "def tokenize_function(examples):\n",
    "    return tokenizer(examples['text'], padding='max_length', truncation=True)\n",
    "\n",
    "tokenized_datasets = dataset.map(tokenize_function, batched=True)\n"
   ]
  },
  {
   "cell_type": "code",
   "execution_count": null,
   "id": "1401300f-f9cf-4d22-a51b-acec6bc36008",
   "metadata": {},
   "outputs": [],
   "source": [
    "small_train_dataset = tokenized_datasets['train'].shuffle(seed=42).select([i for i in range(1000)])\n",
    "small_test_dataset = tokenized_datasets['test'].shuffle(seed=42).select([i for i in range(1000)])\n"
   ]
  },
  {
   "cell_type": "markdown",
   "id": "e3519256-09da-4359-bffc-de9f2e294dbd",
   "metadata": {},
   "source": [
    "## Configurar el Entrenamiento"
   ]
  },
  {
   "cell_type": "code",
   "execution_count": null,
   "id": "29b0fdbb-4ff3-462d-ac1e-698abd3efa32",
   "metadata": {},
   "outputs": [],
   "source": [
    "training_args = TrainingArguments(\n",
    "    output_dir='./results',          # output directory\n",
    "    num_train_epochs=3,              # total number of training epochs\n",
    "    per_device_train_batch_size=4,   # batch size for training\n",
    "    per_device_eval_batch_size=4,    # batch size for evaluation\n",
    "    warmup_steps=500,                # number of warmup steps for learning rate scheduler\n",
    "    weight_decay=0.01,               # strength of weight decay\n",
    "    logging_dir='./logs',            # directory for storing logs\n",
    "    logging_steps=10,\n",
    ")\n"
   ]
  },
  {
   "cell_type": "markdown",
   "id": "a3318abf-15db-4f19-aaba-07308e83f3fa",
   "metadata": {},
   "source": [
    "## Entrenamiento y Evaluacion"
   ]
  },
  {
   "cell_type": "code",
   "execution_count": null,
   "id": "88bfbf9a-30c6-46f4-8454-acd38c9cb01f",
   "metadata": {},
   "outputs": [],
   "source": [
    "trainer = Trainer(\n",
    "    model=model,                         # the instantiated 🤗 Transformers model to be trained\n",
    "    args=training_args,                  # training arguments, defined above\n",
    "    train_dataset=small_train_dataset,   # training dataset\n",
    "    eval_dataset=small_test_dataset      # evaluation dataset\n",
    ")\n",
    "\n",
    "trainer.train()\n"
   ]
  },
  {
   "cell_type": "code",
   "execution_count": null,
   "id": "06e9d5bd-d0e7-4420-9e7f-4fd04b18a60e",
   "metadata": {},
   "outputs": [],
   "source": [
    "eval_result = trainer.evaluate()\n",
    "\n",
    "print(f\"Evaluation results: {eval_result}\")\n"
   ]
  },
  {
   "cell_type": "code",
   "execution_count": null,
   "id": "2a69fa2f-2c76-4ff0-bb2e-1543ee973fa2",
   "metadata": {},
   "outputs": [],
   "source": [
    "model.save_pretrained('./finetuned_model')\n",
    "tokenizer.save_pretrained('./finetuned_model')\n"
   ]
  }
 ],
 "metadata": {
  "kernelspec": {
   "display_name": "Python 3 (ipykernel)",
   "language": "python",
   "name": "python3"
  },
  "language_info": {
   "codemirror_mode": {
    "name": "ipython",
    "version": 3
   },
   "file_extension": ".py",
   "mimetype": "text/x-python",
   "name": "python",
   "nbconvert_exporter": "python",
   "pygments_lexer": "ipython3",
   "version": "3.11.8"
  }
 },
 "nbformat": 4,
 "nbformat_minor": 5
}
